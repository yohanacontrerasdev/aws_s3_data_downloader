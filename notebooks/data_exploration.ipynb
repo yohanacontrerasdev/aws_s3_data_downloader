{
 "cells": [
  {
   "cell_type": "markdown",
   "metadata": {},
   "source": [
    "---\n",
    "## 1. Get the data\n",
    "\n",
    "**Download the data by executing the code below:**\n",
    "\n",
    "`Notes:`\n",
    "* This script will download all PDF files from an AWS S3 bucket, maintaining the directory structure, and store them in a DataFrame.\n",
    "* Ensure you have the necessary AWS credentials and configurations set in a .env file.\n",
    "* The script uses boto3 to interact with S3, pandas to handle the data, and re for string manipulation.\n",
    "* The script first downloads all PDF files, then filters these files to obtain those with the most recent and oldest years per company.\n",
    "* Finally, it extracts the content of the filtered PDFs using the LlamaParse library.\n",
    "* The extracted content is stored in a new DataFrame, which includes the PDF file names and their corresponding text content.\n"
   ]
  },
  {
   "cell_type": "code",
   "execution_count": 1,
   "metadata": {},
   "outputs": [
    {
     "name": "stdout",
     "output_type": "stream",
     "text": [
      "Started parsing the file under job_id cac11eca-918a-4030-a98f-d383226324bf\n",
      "Started parsing the file under job_id cac11eca-66cf-4c16-be64-4066509047de\n"
     ]
    }
   ],
   "source": [
    "import sys\n",
    "import os\n",
    "\n",
    "project_root = os.path.abspath(os.path.join(os.getcwd(), '..'))\n",
    "sys.path.append(project_root)\n",
    "\n",
    "from src import data_utils\n",
    "\n",
    "# Call the function to download the PDFs\n",
    "filtered_pdfs_df = data_utils.download_pdfs_and_convert_to_text()"
   ]
  },
  {
   "cell_type": "markdown",
   "metadata": {},
   "source": [
    "\n",
    "## 2. Normalize the data\n",
    "\n",
    "**Normalizing text is crucial for preparing data for further analysis, ensuring the text is consistent and easy to process by removing noise and standardizing the format.**\n",
    "\n",
    "- **Text Cleaning (`clean_text`):** Convert text to lowercase, remove unwanted characters such as punctuation, URLs, HTML tags, and digits.\n",
    "- **Expand Contractions (`expand_contractions`):** Replace contractions (e.g., \"can't\" to \"cannot\") using a predefined dictionary of contractions.\n",
    "- **Lemmatize Text (`lemmatize_text`):** Tokenize the text and apply lemmatization to convert words to their base form (e.g., \"running\" to \"run\").\n",
    "- **Remove Stopwords (`remove_stopwords`):** Tokenize the text and remove common stop words that do not contribute to the meaning (e.g., \"and\", \"the\").\n",
    "- **Normalize Corpus (`normalize_corpus`):** Combine text chunks into a single string if needed, apply text cleaning, contraction expansion, lemmatization, and stop word removal in sequence, save the cleaned and processed text to a `.txt` file with a specified prefix, and return the normalized text and the output file name.\n"
   ]
  },
  {
   "cell_type": "code",
   "execution_count": 2,
   "metadata": {},
   "outputs": [
    {
     "name": "stderr",
     "output_type": "stream",
     "text": [
      "[nltk_data] Downloading package punkt to /home/yohana/nltk_data...\n",
      "[nltk_data]   Package punkt is already up-to-date!\n",
      "[nltk_data] Downloading package wordnet to /home/yohana/nltk_data...\n",
      "[nltk_data]   Package wordnet is already up-to-date!\n",
      "[nltk_data] Downloading package stopwords to /home/yohana/nltk_data...\n",
      "[nltk_data]   Package stopwords is already up-to-date!\n"
     ]
    }
   ],
   "source": [
    "from src import text_normalizer\n",
    "\n",
    "# Text cleanup and normalization\n",
    "cleaned_text = text_normalizer.normalize_corpus(filtered_pdfs_df)"
   ]
  },
  {
   "cell_type": "markdown",
   "metadata": {},
   "source": [
    "---\n",
    "## 3. Feature Engineering\n",
    "\n",
    "In this stage, we have split the texts into fragments and vectorized them so that the machine learning models can understand them. We used the `CharacterTextSplitter` class from LangChain to divide the long texts into more manageable fragments, ensuring that each fragment retains enough context.\n",
    "\n",
    "After splitting the texts, we store the fragments in a new column of the DataFrame. Then, we use OpenAI embeddings to convert these text fragments into numerical vectors. Embeddings are numerical representations that capture the semantics and context of the texts.\n",
    "\n",
    "Finally, we store these vectors in a `VectorStore` using FAISS, a library for searching and storing large amounts of vectors. This will allow us to search and retrieve similar text fragments quickly and efficiently.\n"
   ]
  },
  {
   "cell_type": "code",
   "execution_count": null,
   "metadata": {},
   "outputs": [],
   "source": [
    "from src import text_processing\n",
    "\n",
    "# Split the text into fragments\n",
    "text_chunks = text_processing.get_text_chunks(cleaned_text)\n",
    "\n",
    "# Create the VectorStore using the text fragments\n",
    "vectorstore = text_processing.get_vectorstore(text_chunks)"
   ]
  }
 ],
 "metadata": {
  "kernelspec": {
   "display_name": "venv",
   "language": "python",
   "name": "python3"
  },
  "language_info": {
   "codemirror_mode": {
    "name": "ipython",
    "version": 3
   },
   "file_extension": ".py",
   "mimetype": "text/x-python",
   "name": "python",
   "nbconvert_exporter": "python",
   "pygments_lexer": "ipython3",
   "version": "3.10.12"
  }
 },
 "nbformat": 4,
 "nbformat_minor": 2
}
