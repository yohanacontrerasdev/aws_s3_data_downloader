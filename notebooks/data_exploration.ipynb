{
 "cells": [
  {
   "cell_type": "markdown",
   "metadata": {},
   "source": [
    "---\n",
    "## 1. Get the data\n",
    "\n",
    "**Download the data by executing the code below:**\n",
    "\n",
    "`Notes:`\n",
    "* This script will download all PDF files from an AWS S3 bucket, maintaining the directory structure, and store them in a DataFrame.\n",
    "* Ensure you have the necessary AWS credentials and configurations set in a .env file.\n",
    "* The script uses boto3 to interact with S3, pandas to handle the data, and re for string manipulation.\n",
    "* The script first downloads all PDF files, then filters these files to obtain those with the most recent and oldest years per company.\n",
    "* Finally, it extracts the content of the filtered PDFs using the LlamaParse library.\n",
    "* The extracted content is stored in a new DataFrame, which includes the PDF file names and their corresponding text content.\n"
   ]
  },
  {
   "cell_type": "code",
   "execution_count": 1,
   "metadata": {
    "ExecuteTime": {
     "end_time": "2024-07-24T22:20:16.609619Z",
     "start_time": "2024-07-24T22:20:14.492759Z"
    }
   },
   "outputs": [
    {
     "name": "stderr",
     "output_type": "stream",
     "text": [
      "[nltk_data] Downloading package punkt to /home/oem/nltk_data...\n",
      "[nltk_data]   Package punkt is already up-to-date!\n"
     ]
    }
   ],
   "source": [
    "# Importing the necessary libraries\n",
    "import sys\n",
    "import os\n",
    "\n",
    "project_root = os.path.abspath(os.path.join(os.getcwd(), '..'))\n",
    "sys.path.append(project_root)\n",
    "\n",
    "from src.plots import(\n",
    "  analyze_text,\n",
    "  analyze_sentiment,\n",
    "  generate_word_cloud,\n",
    "  plot_common_words,\n",
    "  display_ngrams_with_plot_side_by_side\n",
    ")"
   ]
  },
  {
   "cell_type": "code",
   "execution_count": 2,
   "metadata": {
    "ExecuteTime": {
     "end_time": "2024-07-24T22:20:34.151722Z",
     "start_time": "2024-07-24T22:20:16.611719Z"
    }
   },
   "outputs": [
    {
     "name": "stdout",
     "output_type": "stream",
     "text": [
      "Started parsing the file under job_id 4d611e76-889a-404c-8893-ce7fb5759769\n",
      "Started parsing the file under job_id faad762b-84ec-47cb-89f3-55ed5f833041\n"
     ]
    }
   ],
   "source": [
    "from src import data_utils\n",
    "\n",
    "# Call the function to download the PDFs\n",
    "filtered_pdfs_df = data_utils.download_pdfs_and_convert_to_text()"
   ]
  },
  {
   "cell_type": "markdown",
   "metadata": {},
   "source": [
    "\n",
    "## 2. Normalize the data\n",
    "\n",
    "**Normalizing text is crucial for preparing data for further analysis, ensuring the text is consistent and easy to process by removing noise and standardizing the format.**\n",
    "\n",
    "- **Text Cleaning (`clean_text`):** Convert text to lowercase, remove unwanted characters such as punctuation, URLs, HTML tags, and digits.\n",
    "- **Expand Contractions (`expand_contractions`):** Replace contractions (e.g., \"can't\" to \"cannot\") using a predefined dictionary of contractions.\n",
    "- **Lemmatize Text (`lemmatize_text`):** Tokenize the text and apply lemmatization to convert words to their base form (e.g., \"running\" to \"run\").\n",
    "- **Remove Stopwords (`remove_stopwords`):** Tokenize the text and remove common stop words that do not contribute to the meaning (e.g., \"and\", \"the\").\n",
    "- **Normalize Corpus (`normalize_corpus`):** Combine text chunks into a single string if needed, apply text cleaning, contraction expansion, lemmatization, and stop word removal in sequence, save the cleaned and processed text to a `.txt` file with a specified prefix, and return the normalized text and the output file name.\n"
   ]
  },
  {
   "cell_type": "code",
   "execution_count": 3,
   "metadata": {
    "ExecuteTime": {
     "end_time": "2024-07-24T22:20:36.324178Z",
     "start_time": "2024-07-24T22:20:34.152956Z"
    }
   },
   "outputs": [
    {
     "name": "stderr",
     "output_type": "stream",
     "text": [
      "[nltk_data] Downloading package punkt to /home/oem/nltk_data...\n",
      "[nltk_data]   Package punkt is already up-to-date!\n",
      "[nltk_data] Downloading package wordnet to /home/oem/nltk_data...\n",
      "[nltk_data]   Package wordnet is already up-to-date!\n",
      "[nltk_data] Downloading package stopwords to /home/oem/nltk_data...\n",
      "[nltk_data]   Package stopwords is already up-to-date!\n"
     ]
    }
   ],
   "source": [
    "from src import text_normalizer\n",
    "\n",
    "# Text cleanup and normalization\n",
    "cleaned_text = text_normalizer.normalize_corpus(filtered_pdfs_df)"
   ]
  },
  {
   "cell_type": "markdown",
   "metadata": {},
   "source": [
    "**Exploratory Data Analysis (EDA)**"
   ]
  },
  {
   "attachments": {},
   "cell_type": "markdown",
   "metadata": {},
   "source": [
    "1. Number of Words in the Vocabulary"
   ]
  },
  {
   "cell_type": "code",
   "execution_count": 4,
   "metadata": {
    "ExecuteTime": {
     "end_time": "2024-07-24T22:20:36.475940Z",
     "start_time": "2024-07-24T22:20:36.325351Z"
    }
   },
   "outputs": [
    {
     "name": "stdout",
     "output_type": "stream",
     "text": [
      "Number of words in the vocabulary: 4013\n",
      "Words in the vocabulary: ['american', 'nir2o2c09', '442', 'risk', 'needed', 'forecast', '2012', 'neuhaus', '2769', 'produce']\n"
     ]
    }
   ],
   "source": [
    "# Call the analyze_text function\n",
    "X, num_words, vocab_sample = analyze_text(cleaned_text)\n",
    "\n",
    "print(\"Number of words in the vocabulary:\", num_words)\n",
    "print(\"Words in the vocabulary:\", vocab_sample)"
   ]
  },
  {
   "attachments": {},
   "cell_type": "markdown",
   "metadata": {},
   "source": [
    "2. Sentiment of the Text"
   ]
  },
  {
   "cell_type": "code",
   "execution_count": null,
   "metadata": {
    "ExecuteTime": {
     "end_time": "2024-07-24T22:20:36.723550Z",
     "start_time": "2024-07-24T22:20:36.477190Z"
    }
   },
   "outputs": [],
   "source": [
    "sentiment = analyze_sentiment(cleaned_text)\n",
    "print(f\"Sentiment of the text: Polarity={sentiment.polarity}, Subjectivity={sentiment.subjectivity}\")"
   ]
  },
  {
   "attachments": {},
   "cell_type": "markdown",
   "metadata": {},
   "source": [
    "3. Word Cloud"
   ]
  },
  {
   "cell_type": "code",
   "execution_count": null,
   "metadata": {
    "ExecuteTime": {
     "end_time": "2024-07-24T22:20:37.636223Z",
     "start_time": "2024-07-24T22:20:36.724530Z"
    }
   },
   "outputs": [],
   "source": [
    "generate_word_cloud(cleaned_text)"
   ]
  },
  {
   "attachments": {},
   "cell_type": "markdown",
   "metadata": {},
   "source": [
    "4. Common Words Frequency"
   ]
  },
  {
   "cell_type": "code",
   "execution_count": null,
   "metadata": {
    "ExecuteTime": {
     "end_time": "2024-07-24T22:20:38.030739Z",
     "start_time": "2024-07-24T22:20:37.637532Z"
    }
   },
   "outputs": [],
   "source": [
    "plot_common_words(cleaned_text)"
   ]
  },
  {
   "attachments": {},
   "cell_type": "markdown",
   "metadata": {},
   "source": [
    "5. Top 10 Bigrams"
   ]
  },
  {
   "cell_type": "code",
   "execution_count": null,
   "metadata": {
    "ExecuteTime": {
     "end_time": "2024-07-24T22:20:38.410977Z",
     "start_time": "2024-07-24T22:20:38.032571Z"
    }
   },
   "outputs": [],
   "source": [
    "display_ngrams_with_plot_side_by_side(cleaned_text, n=2, top_n=10)"
   ]
  },
  {
   "cell_type": "markdown",
   "metadata": {},
   "source": [
    "---\n",
    "## 3. Feature Engineering\n",
    "\n",
    "In this stage, we have split the texts into fragments and vectorized them so that the machine learning models can understand them. We used the `CharacterTextSplitter` class from LangChain to divide the long texts into more manageable fragments, ensuring that each fragment retains enough context.\n",
    "\n",
    "After splitting the texts, we store the fragments in a new column of the DataFrame. Then, we use OpenAI embeddings to convert these text fragments into numerical vectors. Embeddings are numerical representations that capture the semantics and context of the texts.\n",
    "\n",
    "Finally, we store these vectors in a `VectorStore` using FAISS, a library for searching and storing large amounts of vectors. This will allow us to search and retrieve similar text fragments quickly and efficiently.\n"
   ]
  },
  {
   "cell_type": "code",
   "execution_count": 4,
   "metadata": {
    "ExecuteTime": {
     "end_time": "2024-07-24T22:20:43.450686Z",
     "start_time": "2024-07-24T22:20:38.412364Z"
    }
   },
   "outputs": [],
   "source": [
    "import os\n",
    "from src import text_processing\n",
    "\n",
    "# Create and save the vectorstore\n",
    "text_processing.create_and_save_vectorstore(cleaned_text)"
   ]
  },
  {
   "cell_type": "markdown",
   "metadata": {},
   "source": [
    "## 4. Ragas Evaluation\n",
    "\n",
    "`ragas` is a library designed for evaluating the performance of question-answering (QA) systems. It provides various metrics to measure the quality of answers generated by these systems. The metrics help in assessing aspects such as the relevance of the answer, faithfulness to the context, precision, recall, correctness, and similarity of the answer.\n",
    "\n",
    "When this code is executed:\n",
    "\n",
    "* A dataset will be loaded from a JSON file.\n",
    "* A set of evaluation metrics will be defined to measure different aspects of the QA system's performance.\n",
    "* The dataset will be evaluated using the specified metrics.\n",
    "* The evaluation results will be processed into two DataFrames: one for the global results and one for the results by question.\n",
    "* The processed results will be returned for analysis or visualization."
   ]
  },
  {
   "cell_type": "code",
   "execution_count": 2,
   "metadata": {},
   "outputs": [
    {
     "name": "stdout",
     "output_type": "stream",
     "text": [
      "The data.json file was created successfully\n"
     ]
    }
   ],
   "source": [
    "from src import ragas_utils\n",
    "from src import ragas_model\n",
    "\n",
    "# Read information questions.txt\n",
    "data_questions = ragas_utils.process_information()\n",
    "\n",
    "# Process model for add answer and contexts\n",
    "data_ragas = ragas_model.execute(data_questions)\n",
    "\n",
    "# Create data.json\n",
    "ragas_utils.create_ragas_data_file(data_ragas)"
   ]
  },
  {
   "cell_type": "code",
   "execution_count": 3,
   "metadata": {},
   "outputs": [
    {
     "data": {
      "application/vnd.jupyter.widget-view+json": {
       "model_id": "f45a3f3fd4dd4ca2a26b8033e3b7aa74",
       "version_major": 2,
       "version_minor": 0
      },
      "text/plain": [
       "Generating train split: 0 examples [00:00, ? examples/s]"
      ]
     },
     "metadata": {},
     "output_type": "display_data"
    },
    {
     "data": {
      "application/vnd.jupyter.widget-view+json": {
       "model_id": "1d0841274cf140b3a00e6689e07bfc37",
       "version_major": 2,
       "version_minor": 0
      },
      "text/plain": [
       "Evaluating:   0%|          | 0/24 [00:00<?, ?it/s]"
      ]
     },
     "metadata": {},
     "output_type": "display_data"
    }
   ],
   "source": [
    "from src import ragas_evaluate\n",
    "\n",
    "#Evaluation\n",
    "global_result, question_result = ragas_evaluate.get_evaluation()"
   ]
  },
  {
   "cell_type": "code",
   "execution_count": 4,
   "metadata": {},
   "outputs": [
    {
     "data": {
      "text/html": [
       "<div>\n",
       "<style scoped>\n",
       "    .dataframe tbody tr th:only-of-type {\n",
       "        vertical-align: middle;\n",
       "    }\n",
       "\n",
       "    .dataframe tbody tr th {\n",
       "        vertical-align: top;\n",
       "    }\n",
       "\n",
       "    .dataframe thead th {\n",
       "        text-align: right;\n",
       "    }\n",
       "</style>\n",
       "<table border=\"1\" class=\"dataframe\">\n",
       "  <thead>\n",
       "    <tr style=\"text-align: right;\">\n",
       "      <th></th>\n",
       "      <th>Result</th>\n",
       "    </tr>\n",
       "  </thead>\n",
       "  <tbody>\n",
       "    <tr>\n",
       "      <th>context_precision</th>\n",
       "      <td>0.750000</td>\n",
       "    </tr>\n",
       "    <tr>\n",
       "      <th>faithfulness</th>\n",
       "      <td>0.625000</td>\n",
       "    </tr>\n",
       "    <tr>\n",
       "      <th>answer_relevancy</th>\n",
       "      <td>0.490567</td>\n",
       "    </tr>\n",
       "    <tr>\n",
       "      <th>context_recall</th>\n",
       "      <td>0.250000</td>\n",
       "    </tr>\n",
       "    <tr>\n",
       "      <th>answer_correctness</th>\n",
       "      <td>0.421659</td>\n",
       "    </tr>\n",
       "    <tr>\n",
       "      <th>answer_similarity</th>\n",
       "      <td>0.936635</td>\n",
       "    </tr>\n",
       "  </tbody>\n",
       "</table>\n",
       "</div>"
      ],
      "text/plain": [
       "                      Result\n",
       "context_precision   0.750000\n",
       "faithfulness        0.625000\n",
       "answer_relevancy    0.490567\n",
       "context_recall      0.250000\n",
       "answer_correctness  0.421659\n",
       "answer_similarity   0.936635"
      ]
     },
     "execution_count": 4,
     "metadata": {},
     "output_type": "execute_result"
    }
   ],
   "source": [
    "global_result"
   ]
  },
  {
   "cell_type": "code",
   "execution_count": 5,
   "metadata": {},
   "outputs": [
    {
     "data": {
      "text/html": [
       "<div>\n",
       "<style scoped>\n",
       "    .dataframe tbody tr th:only-of-type {\n",
       "        vertical-align: middle;\n",
       "    }\n",
       "\n",
       "    .dataframe tbody tr th {\n",
       "        vertical-align: top;\n",
       "    }\n",
       "\n",
       "    .dataframe thead th {\n",
       "        text-align: right;\n",
       "    }\n",
       "</style>\n",
       "<table border=\"1\" class=\"dataframe\">\n",
       "  <thead>\n",
       "    <tr style=\"text-align: right;\">\n",
       "      <th></th>\n",
       "      <th>question</th>\n",
       "      <th>answer</th>\n",
       "      <th>contexts</th>\n",
       "      <th>ground_truth</th>\n",
       "      <th>context_precision</th>\n",
       "      <th>faithfulness</th>\n",
       "      <th>answer_relevancy</th>\n",
       "      <th>context_recall</th>\n",
       "      <th>answer_correctness</th>\n",
       "      <th>answer_similarity</th>\n",
       "    </tr>\n",
       "  </thead>\n",
       "  <tbody>\n",
       "    <tr>\n",
       "      <th>0</th>\n",
       "      <td>What were 1-800-Flowers.com, Inc.'s  2019 tot...</td>\n",
       "      <td>1-800-Flowers.com, Inc.'s 2019 total net reven...</td>\n",
       "      <td>[| | |total net revenues|417956|278776|605642|...</td>\n",
       "      <td>1-800-Flowers.com, Inc.'s 2019 total net reve...</td>\n",
       "      <td>1.0</td>\n",
       "      <td>1.0</td>\n",
       "      <td>0.979257</td>\n",
       "      <td>1.0</td>\n",
       "      <td>0.247270</td>\n",
       "      <td>0.989082</td>\n",
       "    </tr>\n",
       "    <tr>\n",
       "      <th>1</th>\n",
       "      <td>What was 1-800-Flowers.com, Inc.'s gross prof...</td>\n",
       "      <td>1-800-Flowers.com, Inc.'s gross profit margin ...</td>\n",
       "      <td>[| | |total net revenues|417956|278776|605642|...</td>\n",
       "      <td>As of July 2019, 1-800-Flowers.com, Inc.'s gr...</td>\n",
       "      <td>1.0</td>\n",
       "      <td>0.0</td>\n",
       "      <td>0.983010</td>\n",
       "      <td>0.0</td>\n",
       "      <td>0.995184</td>\n",
       "      <td>0.980734</td>\n",
       "    </tr>\n",
       "    <tr>\n",
       "      <th>2</th>\n",
       "      <td>What were 1-800-Flowers.com, Inc.'s net reven...</td>\n",
       "      <td>I don't have information on 1-800-Flowers.com,...</td>\n",
       "      <td>[| | |total net revenues|417956|278776|605642|...</td>\n",
       "      <td>In 2021, 1-800-Flowers.com, Inc.'s net revenu...</td>\n",
       "      <td>0.0</td>\n",
       "      <td>1.0</td>\n",
       "      <td>0.000000</td>\n",
       "      <td>0.0</td>\n",
       "      <td>0.221617</td>\n",
       "      <td>0.886469</td>\n",
       "    </tr>\n",
       "    <tr>\n",
       "      <th>3</th>\n",
       "      <td>What was 1-800-Flowers.com, Inc.'s cost of re...</td>\n",
       "      <td>I don't have the information for 1-800-Flowers...</td>\n",
       "      <td>[| | |total net revenues|417956|278776|605642|...</td>\n",
       "      <td>In 2022, 1-800-Flowers.com, Inc.'s cost of re...</td>\n",
       "      <td>1.0</td>\n",
       "      <td>0.5</td>\n",
       "      <td>0.000000</td>\n",
       "      <td>0.0</td>\n",
       "      <td>0.222564</td>\n",
       "      <td>0.890256</td>\n",
       "    </tr>\n",
       "  </tbody>\n",
       "</table>\n",
       "</div>"
      ],
      "text/plain": [
       "                                            question  \\\n",
       "0   What were 1-800-Flowers.com, Inc.'s  2019 tot...   \n",
       "1   What was 1-800-Flowers.com, Inc.'s gross prof...   \n",
       "2   What were 1-800-Flowers.com, Inc.'s net reven...   \n",
       "3   What was 1-800-Flowers.com, Inc.'s cost of re...   \n",
       "\n",
       "                                              answer  \\\n",
       "0  1-800-Flowers.com, Inc.'s 2019 total net reven...   \n",
       "1  1-800-Flowers.com, Inc.'s gross profit margin ...   \n",
       "2  I don't have information on 1-800-Flowers.com,...   \n",
       "3  I don't have the information for 1-800-Flowers...   \n",
       "\n",
       "                                            contexts  \\\n",
       "0  [| | |total net revenues|417956|278776|605642|...   \n",
       "1  [| | |total net revenues|417956|278776|605642|...   \n",
       "2  [| | |total net revenues|417956|278776|605642|...   \n",
       "3  [| | |total net revenues|417956|278776|605642|...   \n",
       "\n",
       "                                        ground_truth  context_precision  \\\n",
       "0   1-800-Flowers.com, Inc.'s 2019 total net reve...                1.0   \n",
       "1   As of July 2019, 1-800-Flowers.com, Inc.'s gr...                1.0   \n",
       "2   In 2021, 1-800-Flowers.com, Inc.'s net revenu...                0.0   \n",
       "3   In 2022, 1-800-Flowers.com, Inc.'s cost of re...                1.0   \n",
       "\n",
       "   faithfulness  answer_relevancy  context_recall  answer_correctness  \\\n",
       "0           1.0          0.979257             1.0            0.247270   \n",
       "1           0.0          0.983010             0.0            0.995184   \n",
       "2           1.0          0.000000             0.0            0.221617   \n",
       "3           0.5          0.000000             0.0            0.222564   \n",
       "\n",
       "   answer_similarity  \n",
       "0           0.989082  \n",
       "1           0.980734  \n",
       "2           0.886469  \n",
       "3           0.890256  "
      ]
     },
     "execution_count": 5,
     "metadata": {},
     "output_type": "execute_result"
    }
   ],
   "source": [
    "question_result"
   ]
  }
 ],
 "metadata": {
  "kernelspec": {
   "display_name": "venv",
   "language": "python",
   "name": "python3"
  },
  "language_info": {
   "codemirror_mode": {
    "name": "ipython",
    "version": 3
   },
   "file_extension": ".py",
   "mimetype": "text/x-python",
   "name": "python",
   "nbconvert_exporter": "python",
   "pygments_lexer": "ipython3",
   "version": "3.12.4"
  }
 },
 "nbformat": 4,
 "nbformat_minor": 2
}
