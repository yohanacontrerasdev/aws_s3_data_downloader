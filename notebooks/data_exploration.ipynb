{
 "cells": [
  {
   "cell_type": "markdown",
   "metadata": {},
   "source": [
    "---\n",
    "## 1. Get the data\n",
    "\n",
    "**Download the data by executing the code below:**\n",
    "\n",
    "`Notes:`\n",
    "* This script will download all PDF files from an AWS S3 bucket, maintaining the directory structure, and store them in a DataFrame.\n",
    "* Ensure you have the necessary AWS credentials and configurations set in a .env file.\n",
    "* The script uses boto3 to interact with S3, pandas to handle the data, and re for string manipulation.\n",
    "* The script first downloads all PDF files, then filters these files to obtain those with the most recent and oldest years per company.\n",
    "* Finally, it extracts the content of the filtered PDFs using the LlamaParse library.\n",
    "* The extracted content is stored in a new DataFrame, which includes the PDF file names and their corresponding text content.\n"
   ]
  },
  {
   "cell_type": "code",
   "execution_count": 1,
   "metadata": {
    "ExecuteTime": {
     "end_time": "2024-07-24T22:20:16.609619Z",
     "start_time": "2024-07-24T22:20:14.492759Z"
    }
   },
   "outputs": [
    {
     "name": "stderr",
     "output_type": "stream",
     "text": [
      "[nltk_data] Downloading package punkt to\n",
      "[nltk_data]     C:\\Users\\egunza\\AppData\\Roaming\\nltk_data...\n",
      "[nltk_data]   Package punkt is already up-to-date!\n"
     ]
    }
   ],
   "source": [
    "# Importing the necessary libraries\n",
    "import sys\n",
    "import os\n",
    "\n",
    "project_root = os.path.abspath(os.path.join(os.getcwd(), '..'))\n",
    "sys.path.append(project_root)\n",
    "\n",
    "from src.plots import(\n",
    "  analyze_text,\n",
    "  analyze_sentiment,\n",
    "  generate_word_cloud,\n",
    "  plot_common_words,\n",
    "  display_ngrams_with_plot_side_by_side\n",
    ")"
   ]
  },
  {
   "cell_type": "code",
   "execution_count": null,
   "metadata": {
    "ExecuteTime": {
     "end_time": "2024-07-24T22:20:34.151722Z",
     "start_time": "2024-07-24T22:20:16.611719Z"
    }
   },
   "outputs": [],
   "source": [
    "from src import data_utils\n",
    "\n",
    "# Call the function to download the PDFs\n",
    "filtered_pdfs_df = data_utils.download_pdfs_and_convert_to_text()"
   ]
  },
  {
   "cell_type": "markdown",
   "metadata": {},
   "source": [
    "\n",
    "## 2. Normalize the data\n",
    "\n",
    "**Normalizing text is crucial for preparing data for further analysis, ensuring the text is consistent and easy to process by removing noise and standardizing the format.**\n",
    "\n",
    "- **Text Cleaning (`clean_text`):** Convert text to lowercase, remove unwanted characters such as punctuation, URLs, HTML tags, and digits.\n",
    "- **Expand Contractions (`expand_contractions`):** Replace contractions (e.g., \"can't\" to \"cannot\") using a predefined dictionary of contractions.\n",
    "- **Lemmatize Text (`lemmatize_text`):** Tokenize the text and apply lemmatization to convert words to their base form (e.g., \"running\" to \"run\").\n",
    "- **Remove Stopwords (`remove_stopwords`):** Tokenize the text and remove common stop words that do not contribute to the meaning (e.g., \"and\", \"the\").\n",
    "- **Normalize Corpus (`normalize_corpus`):** Combine text chunks into a single string if needed, apply text cleaning, contraction expansion, lemmatization, and stop word removal in sequence, save the cleaned and processed text to a `.txt` file with a specified prefix, and return the normalized text and the output file name.\n"
   ]
  },
  {
   "cell_type": "code",
   "execution_count": null,
   "metadata": {
    "ExecuteTime": {
     "end_time": "2024-07-24T22:20:36.324178Z",
     "start_time": "2024-07-24T22:20:34.152956Z"
    }
   },
   "outputs": [],
   "source": [
    "from src import text_normalizer\n",
    "\n",
    "# Text cleanup and normalization\n",
    "cleaned_text = text_normalizer.normalize_corpus(filtered_pdfs_df)"
   ]
  },
  {
   "cell_type": "markdown",
   "metadata": {},
   "source": [
    "**Exploratory Data Analysis (EDA)**"
   ]
  },
  {
   "attachments": {},
   "cell_type": "markdown",
   "metadata": {},
   "source": [
    "1. Number of Words in the Vocabulary"
   ]
  },
  {
   "cell_type": "code",
   "execution_count": null,
   "metadata": {
    "ExecuteTime": {
     "end_time": "2024-07-24T22:20:36.475940Z",
     "start_time": "2024-07-24T22:20:36.325351Z"
    }
   },
   "outputs": [],
   "source": [
    "# Call the analyze_text function\n",
    "X, num_words, vocab_sample = analyze_text(cleaned_text)\n",
    "\n",
    "print(\"Number of words in the vocabulary:\", num_words)\n",
    "print(\"Words in the vocabulary:\", vocab_sample)"
   ]
  },
  {
   "attachments": {},
   "cell_type": "markdown",
   "metadata": {},
   "source": [
    "2. Sentiment of the Text"
   ]
  },
  {
   "cell_type": "code",
   "execution_count": null,
   "metadata": {
    "ExecuteTime": {
     "end_time": "2024-07-24T22:20:36.723550Z",
     "start_time": "2024-07-24T22:20:36.477190Z"
    }
   },
   "outputs": [],
   "source": [
    "sentiment = analyze_sentiment(cleaned_text)\n",
    "print(f\"Sentiment of the text: Polarity={sentiment.polarity}, Subjectivity={sentiment.subjectivity}\")"
   ]
  },
  {
   "attachments": {},
   "cell_type": "markdown",
   "metadata": {},
   "source": [
    "3. Word Cloud"
   ]
  },
  {
   "cell_type": "code",
   "execution_count": null,
   "metadata": {
    "ExecuteTime": {
     "end_time": "2024-07-24T22:20:37.636223Z",
     "start_time": "2024-07-24T22:20:36.724530Z"
    }
   },
   "outputs": [],
   "source": [
    "generate_word_cloud(cleaned_text)"
   ]
  },
  {
   "attachments": {},
   "cell_type": "markdown",
   "metadata": {},
   "source": [
    "4. Common Words Frequency"
   ]
  },
  {
   "cell_type": "code",
   "execution_count": null,
   "metadata": {
    "ExecuteTime": {
     "end_time": "2024-07-24T22:20:38.030739Z",
     "start_time": "2024-07-24T22:20:37.637532Z"
    }
   },
   "outputs": [],
   "source": [
    "plot_common_words(cleaned_text)"
   ]
  },
  {
   "attachments": {},
   "cell_type": "markdown",
   "metadata": {},
   "source": [
    "5. Top 10 Bigrams"
   ]
  },
  {
   "cell_type": "code",
   "execution_count": null,
   "metadata": {
    "ExecuteTime": {
     "end_time": "2024-07-24T22:20:38.410977Z",
     "start_time": "2024-07-24T22:20:38.032571Z"
    }
   },
   "outputs": [],
   "source": [
    "display_ngrams_with_plot_side_by_side(cleaned_text, n=2, top_n=10)"
   ]
  },
  {
   "cell_type": "markdown",
   "metadata": {},
   "source": [
    "---\n",
    "## 3. Feature Engineering\n",
    "\n",
    "In this stage, we have split the texts into fragments and vectorized them so that the machine learning models can understand them. We used the `CharacterTextSplitter` class from LangChain to divide the long texts into more manageable fragments, ensuring that each fragment retains enough context.\n",
    "\n",
    "After splitting the texts, we store the fragments in a new column of the DataFrame. Then, we use OpenAI embeddings to convert these text fragments into numerical vectors. Embeddings are numerical representations that capture the semantics and context of the texts.\n",
    "\n",
    "Finally, we store these vectors in a `VectorStore` using FAISS, a library for searching and storing large amounts of vectors. This will allow us to search and retrieve similar text fragments quickly and efficiently.\n"
   ]
  },
  {
   "cell_type": "code",
   "execution_count": null,
   "metadata": {
    "ExecuteTime": {
     "end_time": "2024-07-24T22:20:43.450686Z",
     "start_time": "2024-07-24T22:20:38.412364Z"
    }
   },
   "outputs": [],
   "source": [
    "import os\n",
    "from src import text_processing\n",
    "\n",
    "# Create and save the vectorstore\n",
    "text_processing.create_and_save_vectorstore(cleaned_text)"
   ]
  },
  {
   "cell_type": "markdown",
   "metadata": {},
   "source": [
    "## 4. Ragas Evaluation\n",
    "\n",
    "TODO"
   ]
  },
  {
   "cell_type": "code",
   "execution_count": null,
   "metadata": {},
   "outputs": [],
   "source": [
    "from src import ragas_utils\n",
    "\n",
    "#Evaluation\n",
    "result = ragas_utils.get_evaluation()\n",
    "result"
   ]
  },
  {
   "cell_type": "code",
   "execution_count": 2,
   "metadata": {},
   "outputs": [
    {
     "name": "stderr",
     "output_type": "stream",
     "text": [
      "d:\\Documentation\\Cursos\\Anyone\\aws_s3_data_downloader\\venv\\Lib\\site-packages\\tqdm\\auto.py:21: TqdmWarning: IProgress not found. Please update jupyter and ipywidgets. See https://ipywidgets.readthedocs.io/en/stable/user_install.html\n",
      "  from .autonotebook import tqdm as notebook_tqdm\n"
     ]
    }
   ],
   "source": [
    "import pandas as pd\n",
    "from datasets import load_dataset\n",
    "from ragas import evaluate\n",
    "from ragas.metrics import (\n",
    "    answer_relevancy,\n",
    "    faithfulness,\n",
    "    context_recall,\n",
    "    context_precision,\n",
    "    answer_correctness,\n",
    "    answer_similarity\n",
    ")"
   ]
  },
  {
   "cell_type": "code",
   "execution_count": 3,
   "metadata": {},
   "outputs": [
    {
     "name": "stderr",
     "output_type": "stream",
     "text": [
      "Generating train split: 2 examples [00:00, 54.34 examples/s]\n"
     ]
    },
    {
     "data": {
      "text/plain": [
       "DatasetDict({\n",
       "    train: Dataset({\n",
       "        features: ['question', 'answer', 'contexts', 'ground_truth'],\n",
       "        num_rows: 2\n",
       "    })\n",
       "})"
      ]
     },
     "execution_count": 3,
     "metadata": {},
     "output_type": "execute_result"
    }
   ],
   "source": [
    "ragas_dataset = load_dataset('json', data_files='data1.json')\n",
    "data = ragas_dataset['train']\n",
    "ragas_dataset"
   ]
  },
  {
   "cell_type": "code",
   "execution_count": 4,
   "metadata": {},
   "outputs": [],
   "source": [
    "# Metrics\n",
    "metrics=[\n",
    "    context_precision,\n",
    "    faithfulness,\n",
    "    answer_relevancy,\n",
    "    context_recall,\n",
    "    answer_correctness,\n",
    "    answer_similarity\n",
    "]"
   ]
  },
  {
   "cell_type": "code",
   "execution_count": 5,
   "metadata": {},
   "outputs": [
    {
     "name": "stderr",
     "output_type": "stream",
     "text": [
      "Evaluating:   0%|          | 0/12 [00:00<?, ?it/s]Runner in Executor raised an exception\n",
      "Evaluating:   8%|▊         | 1/12 [00:03<00:37,  3.45s/it]Runner in Executor raised an exception\n",
      "Evaluating:  17%|█▋        | 2/12 [00:03<00:15,  1.53s/it]Runner in Executor raised an exception\n",
      "Runner in Executor raised an exception\n",
      "Runner in Executor raised an exception\n",
      "Runner in Executor raised an exception\n",
      "Evaluating:  50%|█████     | 6/12 [00:03<00:02,  2.57it/s]Runner in Executor raised an exception\n",
      "Runner in Executor raised an exception\n",
      "Runner in Executor raised an exception\n",
      "Runner in Executor raised an exception\n",
      "Runner in Executor raised an exception\n",
      "Evaluating:  92%|█████████▏| 11/12 [00:04<00:00,  5.45it/s]Runner in Executor raised an exception\n",
      "Evaluating: 100%|██████████| 12/12 [00:04<00:00,  2.99it/s]\n",
      "d:\\Documentation\\Cursos\\Anyone\\aws_s3_data_downloader\\venv\\Lib\\site-packages\\ragas\\evaluation.py:296: RuntimeWarning: Mean of empty slice\n",
      "  value = np.nanmean(self.scores[cn])\n"
     ]
    }
   ],
   "source": [
    "# Evaluation\n",
    "try:\n",
    "    result = evaluate(\n",
    "        data,\n",
    "        metrics=metrics,\n",
    "        raise_exceptions=False\n",
    "    )\n",
    "    result\n",
    "except Exception as e:\n",
    "    print(f\"An error occurred: {e}\")"
   ]
  },
  {
   "cell_type": "code",
   "execution_count": null,
   "metadata": {},
   "outputs": [],
   "source": [
    "def get_evaluation():\n",
    "    ragas_dataset = load_dataset('json', data_files='data.json')\n",
    "    data = ragas_dataset['train']\n",
    "    #print(\"-------- DATA ------------\")\n",
    "    #print(data)\n",
    "\n",
    "    # Metrics\n",
    "    metrics=[\n",
    "        context_precision,\n",
    "        faithfulness,\n",
    "        answer_relevancy,\n",
    "        context_recall,\n",
    "        answer_correctness,\n",
    "        answer_similarity\n",
    "    ]\n",
    "\n",
    "    # Evaluation\n",
    "    result = evaluate(\n",
    "    data,\n",
    "    metrics=metrics,\n",
    "    raise_exceptions=False\n",
    "    )\n",
    "\n",
    "    # Resultado Global\n",
    "    #print(result)\n",
    "    df = pd.DataFrame(result, index=[0])\n",
    "    res_df = df.transpose()\n",
    "    res_df.columns = [\"Result\"]\n",
    "    #st.dataframe(res_df)\n",
    "\n",
    "    # Resultado por pregunta\n",
    "    result_df = result.to_pandas()\n",
    "    return result_df"
   ]
  },
  {
   "cell_type": "code",
   "execution_count": null,
   "metadata": {},
   "outputs": [],
   "source": [
    "result = get_evaluation()\n",
    "result"
   ]
  }
 ],
 "metadata": {
  "kernelspec": {
   "display_name": "venv",
   "language": "python",
   "name": "python3"
  },
  "language_info": {
   "codemirror_mode": {
    "name": "ipython",
    "version": 3
   },
   "file_extension": ".py",
   "mimetype": "text/x-python",
   "name": "python",
   "nbconvert_exporter": "python",
   "pygments_lexer": "ipython3",
   "version": "3.11.9"
  }
 },
 "nbformat": 4,
 "nbformat_minor": 2
}
